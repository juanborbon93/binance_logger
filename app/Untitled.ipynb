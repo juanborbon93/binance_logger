{
 "cells": [
  {
   "cell_type": "code",
   "execution_count": 1,
   "id": "gothic-worship",
   "metadata": {},
   "outputs": [],
   "source": [
    "import os\n",
    "from binance_logger import CryptoMarket,DB\n",
    "import logging\n",
    "db = DB()\n",
    "market = CryptoMarket()\n",
    "market.update_pairs_klines()\n",
    "market.record_kline_data(db,\"crypto_market\")"
   ]
  },
  {
   "cell_type": "code",
   "execution_count": 2,
   "id": "weird-latex",
   "metadata": {},
   "outputs": [],
   "source": [
    "market.update_pairs_klines()\n",
    "market.record_kline_data(db,\"crypto_market\")"
   ]
  },
  {
   "cell_type": "code",
   "execution_count": 6,
   "id": "exceptional-healthcare",
   "metadata": {
    "tags": []
   },
   "outputs": [],
   "source": [
    "def record_kline_data(self,db,bucket_name):\n",
    "    points = []\n",
    "    for pair in self.pairs.values():\n",
    "        if isinstance(pair.kline,list) and len(pair.kline)>0:\n",
    "            pair_dict = pair.dict()\n",
    "            tags = {key:val for key,val in pair_dict.items() if key not in [\"price\",\"kline\"]}\n",
    "            for k in pair.kline:\n",
    "                point = {\n",
    "                    \"measurement\":\"kline\",\n",
    "                    \"tags\":tags,\n",
    "                    \"fields\":{key:val for key,val in k.dict().items() if key not in [\"openTime\",\"closeTime\"]},\n",
    "                    \"time\":k.closeTime\n",
    "                }\n",
    "                points.append(point)\n",
    "    db._write_client.write(bucket_name,db.org,points,'ms')\n",
    "\n",
    "record_kline_data(market,db,\"crypto_market\")"
   ]
  },
  {
   "cell_type": "code",
   "execution_count": 15,
   "id": "unusual-publisher",
   "metadata": {},
   "outputs": [
    {
     "name": "stdout",
     "output_type": "stream",
     "text": [
      "2021-03-21 01:38:59.999000+00:00\n"
     ]
    }
   ],
   "source": [
    "query=\"\"\"from(bucket: \"crypto_market\")\n",
    "  |> range(start: -45m)\n",
    "  |> filter(fn: (r) => r[\"_measurement\"] == \"kline\")\n",
    "  |> filter(fn: (r) => r[\"symbol\"] == \"AAVEUPUSDT\")\n",
    "  |> last()\"\"\"\n",
    "query_result = db.query_api.query(query)\n",
    "times = []\n",
    "for table in query_result:\n",
    "    for entry in table:\n",
    "        times.append(entry.get_time())\n",
    "dtb = max(times)\n",
    "print(dtb)"
   ]
  },
  {
   "cell_type": "code",
   "execution_count": 16,
   "id": "polish-treat",
   "metadata": {},
   "outputs": [
    {
     "name": "stdout",
     "output_type": "stream",
     "text": [
      "2021-03-21 02:15:59.999000\n"
     ]
    }
   ],
   "source": [
    "from datetime import datetime\n",
    "from datetime import timezone\n",
    "\n",
    "dt = datetime.fromtimestamp(market.pairs.get(\"AAVEUPUSDT\").kline[-1].closeTime/1000)\n",
    "# dt.replace(tzinfo=timezone.utc)\n",
    "print(dt)"
   ]
  },
  {
   "cell_type": "code",
   "execution_count": 19,
   "id": "speaking-wesley",
   "metadata": {},
   "outputs": [
    {
     "data": {
      "text/plain": [
       "75.0"
      ]
     },
     "execution_count": 19,
     "metadata": {},
     "output_type": "execute_result"
    }
   ],
   "source": [
    "38+2220/60"
   ]
  },
  {
   "cell_type": "code",
   "execution_count": 17,
   "id": "starting-limit",
   "metadata": {},
   "outputs": [
    {
     "data": {
      "text/plain": [
       "-2220.0"
      ]
     },
     "execution_count": 17,
     "metadata": {},
     "output_type": "execute_result"
    }
   ],
   "source": [
    "dtb.timestamp()-dt.timestamp()"
   ]
  },
  {
   "cell_type": "code",
   "execution_count": 14,
   "id": "naked-fabric",
   "metadata": {},
   "outputs": [
    {
     "data": {
      "text/plain": [
       "1616292959.999"
      ]
     },
     "execution_count": 14,
     "metadata": {},
     "output_type": "execute_result"
    }
   ],
   "source": [
    "dt.timestamp()"
   ]
  }
 ],
 "metadata": {
  "kernelspec": {
   "display_name": "Python 3",
   "language": "python",
   "name": "python3"
  },
  "language_info": {
   "codemirror_mode": {
    "name": "ipython",
    "version": 3
   },
   "file_extension": ".py",
   "mimetype": "text/x-python",
   "name": "python",
   "nbconvert_exporter": "python",
   "pygments_lexer": "ipython3",
   "version": "3.7.10"
  }
 },
 "nbformat": 4,
 "nbformat_minor": 5
}
